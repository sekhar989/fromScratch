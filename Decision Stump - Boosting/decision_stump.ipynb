{
 "cells": [
  {
   "cell_type": "markdown",
   "id": "430deecf-b429-4794-ba39-2a18a0f31a58",
   "metadata": {},
   "source": [
    "# The Algorithm - Regression Trees\n",
    "- Assuming all feature values are quantitative.  \n",
    "- The below algorithm is to build a decision stump i.e. a decision tree with only one split.\n",
    "\n",
    "### Init Stump Variables\n",
    "\n",
    "- Split Variable $\\rightarrow$ Where the variable on which the split is made will be stored\n",
    "- RSS Value $\\rightarrow$ The RSS value of the split\n",
    "- Split Threshold $\\rightarrow$ The threshold against which the split is made\n",
    "- MSE $\\rightarrow$ Meean Squared Error of the split\n",
    "- Predictions $\\rightarrow$ Prediction value for each region\n",
    "\n",
    "$$RSS = \\sum_{j = 1}^J \\sum_{i \\in R_j} (y_i - y_{R_j})^2$$  \n",
    "$$MSE = \\frac{1}{n} RSS$$\n",
    "\n",
    "- Iterate over all feature variables\n",
    "    - Calculate the `min` and `max` value of each feature\n",
    "    - Generate `n` linearly spaced threshold values between `[min, max]` that will act as `thresholds`\n",
    "    - Iterate over the `thresholds`\n",
    "        - Split the attributes in `2-regions = [R1, R2]`, where `R1 = [feature < threshold]` and `R2 = [feature >= threshold]`\n",
    "        - Calculate `RSS` for each region\n",
    "        - Update the initialized variables\n",
    "        \n",
    "    - At the end of the iteration the initialized variables will hold:\n",
    "        - An attribute of `X`\n",
    "        - A `threshold` value, that divides the feature space into 2-regions based on the minimum RSS value which indicates the best split.\n",
    "        - Each region will have it's corresponding prediction\n",
    "    \n",
    "**Note:** For a decision tree, the above steps are recursively performed for each subsequent regions, until a stopping criterion is met. This whole structure is easily represented in a tree data-structure; hence the name `decision tree`."
   ]
  },
  {
   "cell_type": "code",
   "execution_count": 1,
   "id": "8975b488-a14d-4959-88ce-2cf2e29b611d",
   "metadata": {},
   "outputs": [],
   "source": [
    "import numpy as np\n",
    "import pandas as pd\n",
    "from pprint import pprint\n",
    "from copy import deepcopy\n",
    "from collections import defaultdict\n",
    "from tqdm import tqdm\n",
    "import random\n",
    "random.seed(518123)"
   ]
  },
  {
   "cell_type": "code",
   "execution_count": 2,
   "id": "e084d69c-1f3d-4349-94ca-bbe2f9eac7c5",
   "metadata": {},
   "outputs": [],
   "source": [
    "data = pd.read_csv('Boston.csv')"
   ]
  },
  {
   "cell_type": "code",
   "execution_count": 3,
   "id": "c83e2b21-a87e-4154-97c6-05670e733b9d",
   "metadata": {},
   "outputs": [
    {
     "data": {
      "text/html": [
       "<div>\n",
       "<style scoped>\n",
       "    .dataframe tbody tr th:only-of-type {\n",
       "        vertical-align: middle;\n",
       "    }\n",
       "\n",
       "    .dataframe tbody tr th {\n",
       "        vertical-align: top;\n",
       "    }\n",
       "\n",
       "    .dataframe thead th {\n",
       "        text-align: right;\n",
       "    }\n",
       "</style>\n",
       "<table border=\"1\" class=\"dataframe\">\n",
       "  <thead>\n",
       "    <tr style=\"text-align: right;\">\n",
       "      <th></th>\n",
       "      <th>crim</th>\n",
       "      <th>zn</th>\n",
       "      <th>indus</th>\n",
       "      <th>chas</th>\n",
       "      <th>nox</th>\n",
       "      <th>rm</th>\n",
       "      <th>age</th>\n",
       "      <th>dis</th>\n",
       "      <th>rad</th>\n",
       "      <th>tax</th>\n",
       "      <th>ptratio</th>\n",
       "      <th>b</th>\n",
       "      <th>lstat</th>\n",
       "      <th>medv</th>\n",
       "    </tr>\n",
       "  </thead>\n",
       "  <tbody>\n",
       "    <tr>\n",
       "      <th>0</th>\n",
       "      <td>0.00632</td>\n",
       "      <td>18.0</td>\n",
       "      <td>2.31</td>\n",
       "      <td>0</td>\n",
       "      <td>0.538</td>\n",
       "      <td>6.575</td>\n",
       "      <td>65.2</td>\n",
       "      <td>4.0900</td>\n",
       "      <td>1</td>\n",
       "      <td>296</td>\n",
       "      <td>15.3</td>\n",
       "      <td>396.90</td>\n",
       "      <td>4.98</td>\n",
       "      <td>24.0</td>\n",
       "    </tr>\n",
       "    <tr>\n",
       "      <th>1</th>\n",
       "      <td>0.02731</td>\n",
       "      <td>0.0</td>\n",
       "      <td>7.07</td>\n",
       "      <td>0</td>\n",
       "      <td>0.469</td>\n",
       "      <td>6.421</td>\n",
       "      <td>78.9</td>\n",
       "      <td>4.9671</td>\n",
       "      <td>2</td>\n",
       "      <td>242</td>\n",
       "      <td>17.8</td>\n",
       "      <td>396.90</td>\n",
       "      <td>9.14</td>\n",
       "      <td>21.6</td>\n",
       "    </tr>\n",
       "    <tr>\n",
       "      <th>2</th>\n",
       "      <td>0.02729</td>\n",
       "      <td>0.0</td>\n",
       "      <td>7.07</td>\n",
       "      <td>0</td>\n",
       "      <td>0.469</td>\n",
       "      <td>7.185</td>\n",
       "      <td>61.1</td>\n",
       "      <td>4.9671</td>\n",
       "      <td>2</td>\n",
       "      <td>242</td>\n",
       "      <td>17.8</td>\n",
       "      <td>392.83</td>\n",
       "      <td>4.03</td>\n",
       "      <td>34.7</td>\n",
       "    </tr>\n",
       "    <tr>\n",
       "      <th>3</th>\n",
       "      <td>0.03237</td>\n",
       "      <td>0.0</td>\n",
       "      <td>2.18</td>\n",
       "      <td>0</td>\n",
       "      <td>0.458</td>\n",
       "      <td>6.998</td>\n",
       "      <td>45.8</td>\n",
       "      <td>6.0622</td>\n",
       "      <td>3</td>\n",
       "      <td>222</td>\n",
       "      <td>18.7</td>\n",
       "      <td>394.63</td>\n",
       "      <td>2.94</td>\n",
       "      <td>33.4</td>\n",
       "    </tr>\n",
       "    <tr>\n",
       "      <th>4</th>\n",
       "      <td>0.06905</td>\n",
       "      <td>0.0</td>\n",
       "      <td>2.18</td>\n",
       "      <td>0</td>\n",
       "      <td>0.458</td>\n",
       "      <td>7.147</td>\n",
       "      <td>54.2</td>\n",
       "      <td>6.0622</td>\n",
       "      <td>3</td>\n",
       "      <td>222</td>\n",
       "      <td>18.7</td>\n",
       "      <td>396.90</td>\n",
       "      <td>5.33</td>\n",
       "      <td>36.2</td>\n",
       "    </tr>\n",
       "  </tbody>\n",
       "</table>\n",
       "</div>"
      ],
      "text/plain": [
       "      crim    zn  indus  chas    nox     rm   age     dis  rad  tax  ptratio  \\\n",
       "0  0.00632  18.0   2.31     0  0.538  6.575  65.2  4.0900    1  296     15.3   \n",
       "1  0.02731   0.0   7.07     0  0.469  6.421  78.9  4.9671    2  242     17.8   \n",
       "2  0.02729   0.0   7.07     0  0.469  7.185  61.1  4.9671    2  242     17.8   \n",
       "3  0.03237   0.0   2.18     0  0.458  6.998  45.8  6.0622    3  222     18.7   \n",
       "4  0.06905   0.0   2.18     0  0.458  7.147  54.2  6.0622    3  222     18.7   \n",
       "\n",
       "        b  lstat  medv  \n",
       "0  396.90   4.98  24.0  \n",
       "1  396.90   9.14  21.6  \n",
       "2  392.83   4.03  34.7  \n",
       "3  394.63   2.94  33.4  \n",
       "4  396.90   5.33  36.2  "
      ]
     },
     "execution_count": 3,
     "metadata": {},
     "output_type": "execute_result"
    }
   ],
   "source": [
    "data.head()"
   ]
  },
  {
   "cell_type": "markdown",
   "id": "6c3f6314-1eb7-4896-896a-35f15ef2834c",
   "metadata": {},
   "source": [
    "## Building a Decision Stump"
   ]
  },
  {
   "cell_type": "code",
   "execution_count": 4,
   "id": "f5562061-d724-4fbd-a31d-48f3b7a7814f",
   "metadata": {},
   "outputs": [],
   "source": [
    "def decision_stump(features, labels, num_thresholds=200):\n",
    "    \n",
    "    # Init Stump Variables\n",
    "    stump = {'split_variable': \"\",\n",
    "             'split_threshold': None,\n",
    "             'rss_split': None,\n",
    "             'mse_split': np.inf,\n",
    "             'split_predictions': {'lower': None, 'higher': None}}\n",
    "    \n",
    "    # Iterate over all feature variables\n",
    "    for column in features.columns:\n",
    "        # Calculate the `min` and `max` value of each feature\n",
    "        min_threshold, max_threshold = features[column].min(), features[column].max()\n",
    "        \n",
    "        # Generate `n` linearly spaced threshold values between `[min, max]` that will act as `thresholds`\n",
    "        thresholds = np.arange(min_threshold, max_threshold, step=(max_threshold-min_threshold)/(num_thresholds-1))\n",
    "        \n",
    "        # Iterate over the `thresholds`\n",
    "        for threshold in thresholds:\n",
    "            # Split the attributes in `2-regions = [R1, R2]`, where `R1 = [feature < threshold]` and `R2 = [feature >= threshold]`\n",
    "            less_than_idx = (features[features[column] < threshold]).index\n",
    "            greater_than_idx = (features[features[column] >= threshold]).index\n",
    "            \n",
    "            # Calculate Predictions for each region\n",
    "            pred_less_than = labels.loc[less_than_idx].mean()\n",
    "            pred_greater_than = labels.loc[greater_than_idx].mean()\n",
    "            \n",
    "            # Calculate RSS\n",
    "            RSS = ((labels.loc[less_than_idx] - pred_less_than)**2).sum() + ((labels.loc[greater_than_idx] - pred_greater_than)**2).sum()\n",
    "            \n",
    "            # Update stump attributes\n",
    "            mse = (RSS / len(labels)).values[0]\n",
    "            \n",
    "            if stump['rss_split'] is not None:\n",
    "                if mse < stump['mse_split']:\n",
    "                    stump.update({'split_variable': column,\n",
    "                                  'split_threshold': threshold,\n",
    "                                  'rss_split': RSS.values[0],\n",
    "                                  'mse_split': mse,\n",
    "                                  'split_predictions': {'lower': pred_less_than.values[0],\n",
    "                                                        'higher': pred_greater_than.values[0]}})\n",
    "            else:\n",
    "                stump.update({'split_variable': column,\n",
    "                                  'split_threshold': threshold,\n",
    "                                  'rss_split': RSS.values[0],\n",
    "                                  'mse_split': mse,\n",
    "                                  'split_predictions': {'lower': pred_less_than.values[0],\n",
    "                                                        'higher': pred_greater_than.values[0]}})\n",
    "    return stump"
   ]
  },
  {
   "cell_type": "code",
   "execution_count": 5,
   "id": "ee0c451c-25c7-43cc-aae2-5c66598c1a25",
   "metadata": {},
   "outputs": [],
   "source": [
    "indexes = data.index.to_list()\n",
    "random.shuffle(indexes)\n",
    "\n",
    "split_pc = 0.8   # 80-20 split of train & test\n",
    "split_num = int(len(indexes) * split_pc)\n",
    "train_idx, test_idx = indexes[:split_num], indexes[split_num:]"
   ]
  },
  {
   "cell_type": "code",
   "execution_count": 6,
   "id": "ae30e34f-5a44-4a98-9371-47b679135a41",
   "metadata": {},
   "outputs": [
    {
     "name": "stdout",
     "output_type": "stream",
     "text": [
      "{'mse_split': 45.601216341880786,\n",
      " 'rss_split': 18422.891402119836,\n",
      " 'split_predictions': {'higher': 37.52898550724637,\n",
      "                       'lower': 20.074925373134317},\n",
      " 'split_threshold': 6.913869346733658,\n",
      " 'split_variable': 'rm'}\n"
     ]
    }
   ],
   "source": [
    "X_train, X_test = data.loc[train_idx, 'rm lstat'.split()], data.loc[test_idx, 'rm lstat'.split()]\n",
    "Y_train, Y_test = data.loc[train_idx, ['medv']], data.loc[test_idx, ['medv']]\n",
    "stump = decision_stump(X_train, Y_train)\n",
    "pprint(stump)"
   ]
  },
  {
   "cell_type": "markdown",
   "id": "cf415ced-4a55-4dfa-bc3a-0a99b2132a7f",
   "metadata": {},
   "source": [
    "## Predicting using Decision Stump"
   ]
  },
  {
   "cell_type": "code",
   "execution_count": 7,
   "id": "28f67683-e888-4f15-adb5-45c5c55cc993",
   "metadata": {},
   "outputs": [],
   "source": [
    "def stump_predict(features, decision_stump):\n",
    "    \n",
    "    less_than_idx = (features[decision_stump['split_variable']] < decision_stump['split_threshold'])\n",
    "    greatere_than_idx = (features[decision_stump['split_variable']] >= decision_stump['split_threshold'])\n",
    "    \n",
    "    predictions = np.zeros(len(features))\n",
    "    \n",
    "    predictions[less_than_idx] = decision_stump['split_predictions']['lower']\n",
    "    predictions[greatere_than_idx] = decision_stump['split_predictions']['higher']\n",
    "    \n",
    "    return predictions"
   ]
  },
  {
   "cell_type": "code",
   "execution_count": 8,
   "id": "c0f2a4f7-6da1-46e2-8385-f68165cfa81b",
   "metadata": {},
   "outputs": [
    {
     "name": "stdout",
     "output_type": "stream",
     "text": [
      "Test MSE: 49.4678\n"
     ]
    }
   ],
   "source": [
    "test_mse = ((Y_test.values.reshape(-1) - stump_predict(X_test, stump))**2).sum()/len(Y_test)\n",
    "print(f\"Test MSE: {test_mse:>5.4f}\")"
   ]
  },
  {
   "cell_type": "markdown",
   "id": "4b040377-4719-4f9a-9232-c2f72ac41c60",
   "metadata": {},
   "source": [
    "## Boosted Stump"
   ]
  },
  {
   "cell_type": "markdown",
   "id": "fa9cbb18-f41a-48a3-9ac5-32c2c025dd9b",
   "metadata": {},
   "source": [
    "We have a decision stump and we can perform predictions using it. But as we can see that MSE value is quite large. This can be minimized by using a Boosted Tree.  \n",
    "Some popular implementations available are Adaboost and XGBoost.  \n",
    "\n",
    "Things required to build a boosted tree:\n",
    "\n",
    "- A decision stump\n",
    "- Learning Rate $(\\eta)$, generally kept as $\\eta = 0.01$\n",
    "- Number of Boosted Trees $(B)$"
   ]
  },
  {
   "cell_type": "markdown",
   "id": "e16fe54d-5579-44d2-bd3b-77061f76e4eb",
   "metadata": {},
   "source": [
    "<span style=\"color:red;font-weight:500;font-size:20px\">\n",
    "    🚨Crucial $\\rightarrow$ Residual Calculations.\n",
    "    It should be noted that we are trying to fit the residuals.\n",
    "    <p>This will be again used during predictions.</p>\n",
    "</span>"
   ]
  },
  {
   "cell_type": "markdown",
   "id": "45acf847-950e-4710-8e60-0270629b4960",
   "metadata": {},
   "source": [
    "$\\begin{align}\n",
    "r_i & = Y_i & \\dots\\text{Initial Residuals} \\\\\n",
    "r'_i & = r_i - \\hat{f}(X_i) * \\eta & \\dots \\text{$\\hat{f}$ = decision stump} \\\\\n",
    "\\hat{f_b}(X) & = \\sum_{b = 1}^{B} \\eta \\hat{f_b}(x) = \\eta * \\sum_{b = 1}^{B} \\hat{f_b}(x) & \\dots \\text{Final Prediction using all the decision stumps fitted to the residuals} \\\\\n",
    "&& \\text{As $\\eta$ is constant we can pull it out, compute the sum and then perform the product.}\n",
    "\\end{align}$"
   ]
  },
  {
   "cell_type": "code",
   "execution_count": 9,
   "id": "c699864c-42f6-45e6-b5ee-e69e945a4a67",
   "metadata": {},
   "outputs": [],
   "source": [
    "def printf(message):\n",
    "    tqdm.write(message)"
   ]
  },
  {
   "cell_type": "code",
   "execution_count": 10,
   "id": "d9366831-8114-4bfa-a18e-f8968a792ab8",
   "metadata": {},
   "outputs": [],
   "source": [
    "def boosted_prediction(features, boosted, lr = 0.01, max_idx=None):\n",
    "    \n",
    "    # Create an array equal to the length of the features filled with zeros\n",
    "    preds = np.zeros(len(features))\n",
    "    \n",
    "    # Convert the boosted dict into data frame\n",
    "    # Not completely necessary, but acts as a sanity check making sure each key has the same number of items\n",
    "    boosted = pd.DataFrame(boosted)\n",
    "    \n",
    "    if max_idx is not None:\n",
    "        boosted = boosted.head(max_idx)\n",
    "    \n",
    "    # As stated earlier we're looping over each row from the top.\n",
    "    # we could've essentially looped through the range of length(boosted)\n",
    "    # and considered the index of each key.\n",
    "    for index, row in boosted.iterrows():\n",
    "        preds += stump_predict(features, row)\n",
    "    \n",
    "    # Final predictions multiplied with the learning rate (eta) according to the above equation\n",
    "    return preds * lr"
   ]
  },
  {
   "cell_type": "code",
   "execution_count": 11,
   "id": "0d86531d-c35a-4cb9-b0d6-464f8c3bcfa8",
   "metadata": {},
   "outputs": [],
   "source": [
    "def boosted_stump(features, labels, lr = 0.01, boosted_num = 10, verbose=False):\n",
    "    \n",
    "    # Initialize the necessary variables\n",
    "    # We'll need a residual variable which we'll be updating multiple times\n",
    "    # Initially the residuals will be same as the original labels\n",
    "    # The boosted stump will be returned as a table, where each row is a decision stump\n",
    "    # We'll keep a track of the training MSE which we'll later use for plotting\n",
    "    \"\"\"\n",
    "    residuals = r_i + \n",
    "    \"\"\"\n",
    "    residuals = deepcopy(labels)\n",
    "    boosted = defaultdict(list)\n",
    "    training_mse = []\n",
    "    \n",
    "    # Looping through the range of decision stumps\n",
    "    for tree_num in tqdm(range(boosted_num), ascii=True, dynamic_ncols=True, desc=\"Fitting Boosted Tree\"):\n",
    "        \n",
    "        # Fit the features with the residuals\n",
    "        stump = decision_stump(features, residuals)\n",
    "        # Get predictions on the same features using the stump\n",
    "        predictions = stump_predict(features, stump)\n",
    "        \n",
    "        # Calculate the residuals by substracting the predictions multiplied by the learning rate (lr)\n",
    "        predictions = pd.DataFrame((predictions * lr), index=residuals.index, columns=residuals.columns)\n",
    "        residuals = residuals - predictions\n",
    "        \n",
    "        # Update the boosted dictionary\n",
    "        boosted['split_variable'].append(stump['split_variable'])\n",
    "        boosted['split_threshold'].append(stump['split_threshold'])\n",
    "        boosted['rss_split'].append(stump['rss_split'])\n",
    "        boosted['mse_split'].append(stump['mse_split'])\n",
    "        boosted['split_predictions'].append(stump['split_predictions'])\n",
    "        \n",
    "        # Calculate Boosted predictions and log the training MSE\n",
    "        train_preds = boosted_prediction(features, boosted)\n",
    "        train_preds = pd.DataFrame(train_preds, index=labels.index, columns=labels.columns)\n",
    "        train_MSE = (((labels - train_preds)**2).sum()  / len(labels)).values[0]\n",
    "        if verbose:\n",
    "            printf(f\"{tree_num+1:>2} Training MSE: {train_MSE:>5.4f}\")\n",
    "        training_mse.append(train_MSE)\n",
    "    \n",
    "    boosted[\"training_mse\"] = training_mse\n",
    "    \n",
    "    return boosted"
   ]
  },
  {
   "cell_type": "code",
   "execution_count": 12,
   "id": "5e98a30f-1c65-4434-b8d0-22c6ab80e0b4",
   "metadata": {},
   "outputs": [],
   "source": [
    "learning_rate = 0.01\n",
    "boosted_tree_num = 1000"
   ]
  },
  {
   "cell_type": "code",
   "execution_count": 13,
   "id": "691d64a6-0c4e-48f0-a902-1f4a7f3cf92e",
   "metadata": {
    "tags": []
   },
   "outputs": [
    {
     "name": "stderr",
     "output_type": "stream",
     "text": [
      "Fitting Boosted Tree: 100%|##########################################################################################################################################################| 100/100 [01:46<00:00,  1.07s/it]\n"
     ]
    }
   ],
   "source": [
    "boosted = boosted_stump(features=X_train, labels=Y_train, lr=learning_rate, boosted_num=boosted_tree_num)"
   ]
  },
  {
   "cell_type": "code",
   "execution_count": 14,
   "id": "3b26d88b-26bc-4b93-9e13-01d197ffead6",
   "metadata": {},
   "outputs": [],
   "source": [
    "boosted_df = pd.DataFrame(boosted)"
   ]
  },
  {
   "cell_type": "code",
   "execution_count": 15,
   "id": "ba20b550-0348-406a-ad54-a65d5f91ff1a",
   "metadata": {},
   "outputs": [
    {
     "data": {
      "text/html": [
       "<div>\n",
       "<style scoped>\n",
       "    .dataframe tbody tr th:only-of-type {\n",
       "        vertical-align: middle;\n",
       "    }\n",
       "\n",
       "    .dataframe tbody tr th {\n",
       "        vertical-align: top;\n",
       "    }\n",
       "\n",
       "    .dataframe thead th {\n",
       "        text-align: right;\n",
       "    }\n",
       "</style>\n",
       "<table border=\"1\" class=\"dataframe\">\n",
       "  <thead>\n",
       "    <tr style=\"text-align: right;\">\n",
       "      <th></th>\n",
       "      <th>split_variable</th>\n",
       "      <th>split_threshold</th>\n",
       "      <th>rss_split</th>\n",
       "      <th>mse_split</th>\n",
       "      <th>split_predictions</th>\n",
       "      <th>training_mse</th>\n",
       "    </tr>\n",
       "  </thead>\n",
       "  <tbody>\n",
       "    <tr>\n",
       "      <th>0</th>\n",
       "      <td>rm</td>\n",
       "      <td>6.913869</td>\n",
       "      <td>18422.891402</td>\n",
       "      <td>45.601216</td>\n",
       "      <td>{'lower': 20.074925373134317, 'higher': 37.528...</td>\n",
       "      <td>608.885037</td>\n",
       "    </tr>\n",
       "    <tr>\n",
       "      <th>1</th>\n",
       "      <td>rm</td>\n",
       "      <td>6.913869</td>\n",
       "      <td>18422.891402</td>\n",
       "      <td>45.601216</td>\n",
       "      <td>{'lower': 19.874176119402957, 'higher': 37.153...</td>\n",
       "      <td>597.675689</td>\n",
       "    </tr>\n",
       "    <tr>\n",
       "      <th>2</th>\n",
       "      <td>rm</td>\n",
       "      <td>6.913869</td>\n",
       "      <td>18422.891402</td>\n",
       "      <td>45.601216</td>\n",
       "      <td>{'lower': 19.675434358208992, 'higher': 36.782...</td>\n",
       "      <td>586.689407</td>\n",
       "    </tr>\n",
       "    <tr>\n",
       "      <th>3</th>\n",
       "      <td>rm</td>\n",
       "      <td>6.913869</td>\n",
       "      <td>18422.891402</td>\n",
       "      <td>45.601216</td>\n",
       "      <td>{'lower': 19.478680014626896, 'higher': 36.414...</td>\n",
       "      <td>575.921752</td>\n",
       "    </tr>\n",
       "    <tr>\n",
       "      <th>4</th>\n",
       "      <td>rm</td>\n",
       "      <td>6.913869</td>\n",
       "      <td>18422.891402</td>\n",
       "      <td>45.601216</td>\n",
       "      <td>{'lower': 19.28389321448058, 'higher': 36.0501...</td>\n",
       "      <td>565.368373</td>\n",
       "    </tr>\n",
       "  </tbody>\n",
       "</table>\n",
       "</div>"
      ],
      "text/plain": [
       "  split_variable  split_threshold     rss_split  mse_split  \\\n",
       "0             rm         6.913869  18422.891402  45.601216   \n",
       "1             rm         6.913869  18422.891402  45.601216   \n",
       "2             rm         6.913869  18422.891402  45.601216   \n",
       "3             rm         6.913869  18422.891402  45.601216   \n",
       "4             rm         6.913869  18422.891402  45.601216   \n",
       "\n",
       "                                   split_predictions  training_mse  \n",
       "0  {'lower': 20.074925373134317, 'higher': 37.528...    608.885037  \n",
       "1  {'lower': 19.874176119402957, 'higher': 37.153...    597.675689  \n",
       "2  {'lower': 19.675434358208992, 'higher': 36.782...    586.689407  \n",
       "3  {'lower': 19.478680014626896, 'higher': 36.414...    575.921752  \n",
       "4  {'lower': 19.28389321448058, 'higher': 36.0501...    565.368373  "
      ]
     },
     "execution_count": 15,
     "metadata": {},
     "output_type": "execute_result"
    }
   ],
   "source": [
    "boosted_df.head()"
   ]
  },
  {
   "cell_type": "markdown",
   "id": "7ba7fb9f-dda4-497b-9053-4169fde183c5",
   "metadata": {},
   "source": [
    "## Analysis"
   ]
  },
  {
   "cell_type": "code",
   "execution_count": 16,
   "id": "2603e5e8-3060-4693-8e16-b61a91e8f160",
   "metadata": {},
   "outputs": [],
   "source": [
    "import matplotlib.pyplot as plt\n",
    "%matplotlib inline"
   ]
  },
  {
   "cell_type": "code",
   "execution_count": 17,
   "id": "e9784f04-2a2f-4c81-a82c-341137e8dd91",
   "metadata": {},
   "outputs": [
    {
     "data": {
      "image/png": "[encoded data removed]",
      "text/plain": [
       "<Figure size 864x576 with 1 Axes>"
      ]
     },
     "metadata": {
      "needs_background": "light"
     },
     "output_type": "display_data"
    }
   ],
   "source": [
    "plt.figure(figsize=(12, 8))\n",
    "plt.plot(boosted_df['training_mse']);\n",
    "plt.ylabel('Training MSE');\n",
    "plt.xlabel('Number of Trees');"
   ]
  },
  {
   "cell_type": "markdown",
   "id": "d74fc5d1-3102-4d29-9ac9-4963d5d73734",
   "metadata": {},
   "source": [
    "Now we'll look at how the test mse is changing with high number of boosted trees."
   ]
  },
  {
   "cell_type": "code",
   "execution_count": 18,
   "id": "2346797b-2ca1-4f2b-b8c8-06023a778b77",
   "metadata": {},
   "outputs": [],
   "source": [
    "test_mse = []\n",
    "for max_idx in range(boosted_tree_num):\n",
    "    predictions = boosted_prediction(X_test, boosted, lr = 0.01, max_idx=max_idx)\n",
    "    test_preds = pd.DataFrame(predictions, index=Y_test.index, columns=Y_test.columns)\n",
    "    test_MSE = (((Y_test - test_preds)**2).sum()  / len(Y_test)).values[0]\n",
    "    test_mse.append(test_MSE)"
   ]
  },
  {
   "cell_type": "code",
   "execution_count": 21,
   "id": "19838ebe-8808-40ca-9833-e14bbaf24ff8",
   "metadata": {},
   "outputs": [
    {
     "data": {
      "image/png": "[encoded data removed]",
      "text/plain": [
       "<Figure size 864x576 with 1 Axes>"
      ]
     },
     "metadata": {
      "needs_background": "light"
     },
     "output_type": "display_data"
    }
   ],
   "source": [
    "plt.figure(figsize=(12, 8))\n",
    "plt.plot(boosted_df['training_mse'], label='Training MSE');\n",
    "plt.plot(test_mse, label='Test MSE');\n",
    "plt.ylabel('MSE');\n",
    "plt.xlabel('Number of Trees');\n",
    "plt.legend();"
   ]
  },
  {
   "cell_type": "code",
   "execution_count": null,
   "id": "20f11b46-8558-4aa2-9f2f-23942febdb3e",
   "metadata": {},
   "outputs": [],
   "source": []
  }
 ],
 "metadata": {
  "kernelspec": {
   "display_name": "Python 3 (ipykernel)",
   "language": "python",
   "name": "python3"
  },
  "language_info": {
   "codemirror_mode": {
    "name": "ipython",
    "version": 3
   },
   "file_extension": ".py",
   "mimetype": "text/x-python",
   "name": "python",
   "nbconvert_exporter": "python",
   "pygments_lexer": "ipython3",
   "version": "3.8.13"
  }
 },
 "nbformat": 4,
 "nbformat_minor": 5
}
